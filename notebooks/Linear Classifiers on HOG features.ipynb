{
 "cells": [
  {
   "cell_type": "markdown",
   "metadata": {},
   "source": [
    "## Experiment to test HOG features.\n",
    "Hog features defaults:\n",
    "- no. of bins=9\n",
    "- pixels_per_cell=(8,8)\n",
    "- cells_per_block=(3,3)\n",
    "- So, Total number of features (for 32x32 image): 324\n",
    "    "
   ]
  },
  {
   "cell_type": "code",
   "execution_count": 1,
   "metadata": {
    "collapsed": true
   },
   "outputs": [],
   "source": [
    "import numpy as np\n",
    "from sklearn.linear_model import LogisticRegression\n",
    "from sklearn.svm import SVC\n",
    "from sklearn.neighbors import KNeighborsClassifier\n",
    "import datasets"
   ]
  },
  {
   "cell_type": "code",
   "execution_count": 2,
   "metadata": {
    "collapsed": false
   },
   "outputs": [],
   "source": [
    "C=1\n",
    "classifiers = {'Linear_SVC': SVC(kernel='linear', C=C),\n",
    "               'RBF_SVC': SVC(kernel='rbf', C=C),\n",
    "               'L2_logistic (OvR)': LogisticRegression(C=C, penalty='l2'),\n",
    "              }\n",
    "data=datasets.load_cifar_hog()"
   ]
  },
  {
   "cell_type": "code",
   "execution_count": 3,
   "metadata": {
    "collapsed": false
   },
   "outputs": [
    {
     "name": "stdout",
     "output_type": "stream",
     "text": [
      "CPU times: user 2 µs, sys: 0 ns, total: 2 µs\n",
      "Wall time: 5.01 µs\n",
      "Running  RBF_SVC classifier\n",
      "Accuracy:  0.1572\n",
      "Running  Linear_SVC classifier\n",
      "Accuracy:  0.3283\n",
      "Running  L2_logistic (OvR) classifier\n",
      "Accuracy:  0.3311\n"
     ]
    }
   ],
   "source": [
    "%time \n",
    "for index,(name,classifier) in enumerate(classifiers.items()):\n",
    "    print \"Running \", name , \"classifier\"\n",
    "    classifier.fit(data.X_train,data.y_train)\n",
    "    print \"Accuracy: \", classifier.score(data.X_test,data.y_test)\n"
   ]
  }
 ],
 "metadata": {
  "kernelspec": {
   "display_name": "Python 2",
   "language": "python",
   "name": "python2"
  },
  "language_info": {
   "codemirror_mode": {
    "name": "ipython",
    "version": 2
   },
   "file_extension": ".py",
   "mimetype": "text/x-python",
   "name": "python",
   "nbconvert_exporter": "python",
   "pygments_lexer": "ipython2",
   "version": "2.7.10"
  }
 },
 "nbformat": 4,
 "nbformat_minor": 0
}
