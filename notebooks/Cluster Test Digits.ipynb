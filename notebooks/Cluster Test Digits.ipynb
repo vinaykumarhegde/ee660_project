{
 "cells": [
  {
   "cell_type": "markdown",
   "metadata": {},
   "source": [
    "## Cluster Test on Digits Data"
   ]
  },
  {
   "cell_type": "markdown",
   "metadata": {},
   "source": [
    "### Borrowed Idea and few scripts from: \n",
    "#### Parallel Machine Learning with scikit-learn and IPython\n",
    "(https://github.com/ogrisel/parallel_ml_tutorial)\n",
    "\n",
    "#### Initial Steps\n",
    "- Mandatory: Add Scripts directory!"
   ]
  },
  {
   "cell_type": "code",
   "execution_count": 1,
   "metadata": {
    "collapsed": false
   },
   "outputs": [
    {
     "data": {
      "text/plain": [
       "<matplotlib.figure.Figure at 0x108f0afd0>"
      ]
     },
     "metadata": {},
     "output_type": "display_data"
    }
   ],
   "source": [
    "%matplotlib inline\n",
    "import matplotlib.pyplot as plt\n",
    "plt.rcParams['figure.figsize'] = 10, 7.5\n",
    "plt.rcParams['axes.grid'] = True\n",
    "plt.gray();\n",
    "\n",
    "import sys\n",
    "import numpy as np\n",
    "sys.path.append('../scripts')\n",
    "import datasets"
   ]
  },
  {
   "cell_type": "markdown",
   "metadata": {},
   "source": [
    "#### Cluster definition and Initialization"
   ]
  },
  {
   "cell_type": "code",
   "execution_count": 3,
   "metadata": {
    "collapsed": false
   },
   "outputs": [],
   "source": [
    "from IPython.parallel import Client\n",
    "client = Client()\n",
    "lb_view = client.load_balanced_view()"
   ]
  },
  {
   "cell_type": "markdown",
   "metadata": {},
   "source": [
    "#### Model definition"
   ]
  },
  {
   "cell_type": "code",
   "execution_count": 4,
   "metadata": {
    "collapsed": false
   },
   "outputs": [],
   "source": [
    "from sklearn.svm import SVC\n",
    "model = SVC()\n",
    "model_keyword='digits_svm'\n",
    "svc_params = {\n",
    "    'C': np.logspace(-1, 2, 3),\n",
    "    'gamma': np.logspace(-4, 0, 3),\n",
    "    'kernel':['linear','rbf']\n",
    "}"
   ]
  },
  {
   "cell_type": "code",
   "execution_count": 5,
   "metadata": {
    "collapsed": false
   },
   "outputs": [],
   "source": [
    "from sklearn.datasets import load_digits\n",
    "from mmap_utils import persist_cv_splits\n",
    "from sklearn.preprocessing import StandardScaler\n",
    "\n",
    "\n",
    "digits = load_digits()\n",
    "scaler = StandardScaler()\n",
    "X_train = scaler.fit_transform(digits['data'][:1400,])\n",
    "X_test = scaler.transform(digits['data'][1400:,])\n",
    "Y_train=digits['target'][:1400,]\n",
    "Y_test=digits['target'][1400:,]\n",
    "\n",
    "digits_split_filenames = persist_cv_splits(X_train, Y_train,\n",
    "    name='digits', random_state=4)"
   ]
  },
  {
   "cell_type": "code",
   "execution_count": 6,
   "metadata": {
    "collapsed": false
   },
   "outputs": [
    {
     "data": {
      "text/plain": [
       "Progress: 00% (000/090)"
      ]
     },
     "execution_count": 6,
     "metadata": {},
     "output_type": "execute_result"
    }
   ],
   "source": [
    "import model_selection\n",
    "search = model_selection.RandomizedGridSeach(lb_view)\n",
    "search.launch_for_splits(model, svc_params, digits_split_filenames)"
   ]
  },
  {
   "cell_type": "code",
   "execution_count": 7,
   "metadata": {
    "collapsed": false
   },
   "outputs": [
    {
     "name": "stdout",
     "output_type": "stream",
     "text": [
      "Progress: 100% (090/090)\n",
      "\n",
      "Rank 1: validation: 0.98686 (+/-0.00294) train: 0.99371 (+/-0.00049):\n",
      " {'kernel': 'rbf', 'C': 100.0, 'gamma': 0.0001}\n",
      "Rank 2: validation: 0.98629 (+/-0.00246) train: 0.99943 (+/-0.00023):\n",
      " {'kernel': 'linear', 'C': 0.10000000000000001, 'gamma': 1.0}\n",
      "Rank 3: validation: 0.98629 (+/-0.00246) train: 0.99943 (+/-0.00023):\n",
      " {'kernel': 'linear', 'C': 0.10000000000000001, 'gamma': 0.01}\n",
      "Rank 4: validation: 0.98629 (+/-0.00246) train: 0.99943 (+/-0.00023):\n",
      " {'kernel': 'linear', 'C': 0.10000000000000001, 'gamma': 0.0001}\n",
      "Rank 5: validation: 0.98400 (+/-0.00280) train: 1.00000 (+/-0.00000):\n",
      " {'kernel': 'rbf', 'C': 100.0, 'gamma': 0.01}\n"
     ]
    }
   ],
   "source": [
    "print(search.report())"
   ]
  },
  {
   "cell_type": "code",
   "execution_count": 8,
   "metadata": {
    "collapsed": false
   },
   "outputs": [
    {
     "data": {
      "image/png": "[encoded data removed]",
      "text/plain": [
       "<matplotlib.figure.Figure at 0x10b7f6e10>"
      ]
     },
     "metadata": {},
     "output_type": "display_data"
    }
   ],
   "source": [
    "search.boxplot_parameters(display_train=False)"
   ]
  },
  {
   "cell_type": "code",
   "execution_count": 9,
   "metadata": {
    "collapsed": false
   },
   "outputs": [],
   "source": [
    "import imp\n",
    "imp.reload(model_selection)\n",
    "modfile='../models/'+model_keyword+'.pkl'\n",
    "mod=search.save_best_model(X_train,Y_train,modfile)"
   ]
  },
  {
   "cell_type": "code",
   "execution_count": 10,
   "metadata": {
    "collapsed": false
   },
   "outputs": [
    {
     "name": "stdout",
     "output_type": "stream",
     "text": [
      "Performance on Train set: 0.99\n",
      "Performance on Test set: 0.92\n"
     ]
    }
   ],
   "source": [
    "print 'Performance on Train set: %0.2f'% (mod.score(X_train,Y_train))\n",
    "print 'Performance on Test set: %0.2f'% (mod.score(X_test,Y_test))"
   ]
  },
  {
   "cell_type": "code",
   "execution_count": null,
   "metadata": {
    "collapsed": true
   },
   "outputs": [],
   "source": []
  }
 ],
 "metadata": {
  "kernelspec": {
   "display_name": "Python 2",
   "language": "python",
   "name": "python2"
  },
  "language_info": {
   "codemirror_mode": {
    "name": "ipython",
    "version": 2
   },
   "file_extension": ".py",
   "mimetype": "text/x-python",
   "name": "python",
   "nbconvert_exporter": "python",
   "pygments_lexer": "ipython2",
   "version": "2.7.10"
  }
 },
 "nbformat": 4,
 "nbformat_minor": 0
}
