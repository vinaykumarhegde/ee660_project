{
 "cells": [
  {
   "cell_type": "markdown",
   "metadata": {},
   "source": [
    "## Linear Classifiers on SIFT Bag of Words\n",
    "\n",
    "Current implementation uses 50 bins/words and histogram of SIFT features with following \n",
    "parameters:  \n",
    "- nOctaveLayers=4\n",
    "- contrastThreshold=0.01\n",
    "- edgeThreshold=20\n",
    "- sigma=1.2\n",
    "\n",
    "Other parameters are also tested and found that several images will not have any SIFT features for those parameters."
   ]
  },
  {
   "cell_type": "code",
   "execution_count": 1,
   "metadata": {
    "collapsed": true
   },
   "outputs": [],
   "source": [
    "import numpy as np\n",
    "from sklearn.linear_model import LogisticRegression\n",
    "from sklearn.svm import SVC\n",
    "from sklearn.neighbors import KNeighborsClassifier\n",
    "import datasets"
   ]
  },
  {
   "cell_type": "code",
   "execution_count": 2,
   "metadata": {
    "collapsed": false
   },
   "outputs": [],
   "source": [
    "C=1\n",
    "classifiers = {'Linear_SVC': SVC(kernel='linear', C=C),\n",
    "               'RBF_SVC': SVC(kernel='rbf', C=C),\n",
    "               'L2_logistic (OvR)': LogisticRegression(C=C, penalty='l2'),\n",
    "              }\n",
    "data=datasets.load_cifar_bow()"
   ]
  },
  {
   "cell_type": "code",
   "execution_count": 3,
   "metadata": {
    "collapsed": false
   },
   "outputs": [
    {
     "name": "stdout",
     "output_type": "stream",
     "text": [
      "Running  RBF_SVC classifier\n",
      "CPU times: user 7min 52s, sys: 3.38 s, total: 7min 55s\n",
      "Wall time: 7min 55s\n",
      "Accuracy:  0.0969\n",
      "Running  Linear_SVC classifier\n",
      "CPU times: user 5min 15s, sys: 2.92 s, total: 5min 18s\n",
      "Wall time: 5min 18s\n",
      "Accuracy:  0.0979\n",
      "Running  L2_logistic (OvR) classifier\n",
      "CPU times: user 2.6 s, sys: 9.47 ms, total: 2.61 s\n",
      "Wall time: 2.61 s\n",
      "Accuracy:  0.0983\n"
     ]
    }
   ],
   "source": [
    "for index,(name,classifier) in enumerate(classifiers.items()):\n",
    "    print \"Running \", name , \"classifier\"\n",
    "    %time classifier.fit(data.X_train,data.y_train)\n",
    "    print \"Accuracy: \", classifier.score(data.X_test,data.y_test)\n"
   ]
  },
  {
   "cell_type": "code",
   "execution_count": null,
   "metadata": {
    "collapsed": true
   },
   "outputs": [],
   "source": []
  }
 ],
 "metadata": {
  "kernelspec": {
   "display_name": "Python 2",
   "language": "python",
   "name": "python2"
  },
  "language_info": {
   "codemirror_mode": {
    "name": "ipython",
    "version": 2
   },
   "file_extension": ".py",
   "mimetype": "text/x-python",
   "name": "python",
   "nbconvert_exporter": "python",
   "pygments_lexer": "ipython2",
   "version": "2.7.10"
  }
 },
 "nbformat": 4,
 "nbformat_minor": 0
}
