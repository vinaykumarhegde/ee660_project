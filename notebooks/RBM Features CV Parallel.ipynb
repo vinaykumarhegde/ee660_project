{
 "cells": [
  {
   "cell_type": "markdown",
   "metadata": {},
   "source": [
    "## SVM on HOG features"
   ]
  },
  {
   "cell_type": "code",
   "execution_count": 2,
   "metadata": {
    "collapsed": false
   },
   "outputs": [
    {
     "data": {
      "text/plain": [
       "<matplotlib.figure.Figure at 0x7f673d262f50>"
      ]
     },
     "metadata": {},
     "output_type": "display_data"
    }
   ],
   "source": [
    "%matplotlib inline\n",
    "import matplotlib.pyplot as plt\n",
    "plt.rcParams['figure.figsize'] = 10, 7.5\n",
    "plt.rcParams['axes.grid'] = True\n",
    "plt.gray();\n",
    "\n",
    "import sys\n",
    "import numpy as np\n",
    "sys.path.append('../scripts')\n",
    "import datasets"
   ]
  },
  {
   "cell_type": "markdown",
   "metadata": {},
   "source": [
    "#### Cluster definition and Initialization"
   ]
  },
  {
   "cell_type": "code",
   "execution_count": 3,
   "metadata": {
    "collapsed": false
   },
   "outputs": [],
   "source": [
    "from ipyparallel import Client\n",
    "client = Client()\n",
    "lb_view = client.load_balanced_view()"
   ]
  },
  {
   "cell_type": "markdown",
   "metadata": {},
   "source": [
    "#### Model definition"
   ]
  },
  {
   "cell_type": "code",
   "execution_count": 11,
   "metadata": {
    "collapsed": false
   },
   "outputs": [
    {
     "data": {
      "text/plain": [
       "65"
      ]
     },
     "execution_count": 11,
     "metadata": {},
     "output_type": "execute_result"
    }
   ],
   "source": [
    "len(client)"
   ]
  },
  {
   "cell_type": "code",
   "execution_count": 5,
   "metadata": {
    "collapsed": false
   },
   "outputs": [],
   "source": [
    "from sklearn.pipeline import Pipeline\n",
    "from sklearn.neural_network import BernoulliRBM\n",
    "from sklearn.linear_model import LogisticRegression\n",
    "\n",
    "logistic = LogisticRegression()\n",
    "rbm = BernoulliRBM(random_state=0, verbose=True)\n",
    "model = Pipeline(steps=[('rbm', rbm), ('logistic', logistic)])\n",
    "model_keyword='rbm_log2'\n",
    "\n",
    "pipeline_params = {\n",
    "    'rbm__learning_rate':np.logspace(-1, 1, 3),\n",
    "    'rbm__n_iter' : [25,100],\n",
    "    'rbm__n_components':[150,300],\n",
    "}"
   ]
  },
  {
   "cell_type": "code",
   "execution_count": 6,
   "metadata": {
    "collapsed": false
   },
   "outputs": [],
   "source": [
    "from mmap_utils import persist_cv_splits\n",
    "from sklearn.preprocessing import StandardScaler\n",
    "\n",
    "data=datasets.load_cifar_gray()\n",
    "scaler = StandardScaler()\n",
    "X_train = scaler.fit_transform(data.X_train)\n",
    "X_test = scaler.transform(data.X_test)\n",
    "Y_train= data.y_train\n",
    "Y_test= data.y_test\n",
    "\n",
    "digits_split_filenames = persist_cv_splits(X_train, Y_train,\n",
    "    name=model_keyword, random_state=4)"
   ]
  },
  {
   "cell_type": "code",
   "execution_count": 7,
   "metadata": {
    "collapsed": false
   },
   "outputs": [
    {
     "data": {
      "text/plain": [
       "Progress: 00% (000/036)"
      ]
     },
     "execution_count": 7,
     "metadata": {},
     "output_type": "execute_result"
    }
   ],
   "source": [
    "import model_selection\n",
    "search = model_selection.RandomizedGridSeach(lb_view)\n",
    "search.launch_for_splits(model, pipeline_params, digits_split_filenames)"
   ]
  },
  {
   "cell_type": "code",
   "execution_count": 56,
   "metadata": {
    "collapsed": false
   },
   "outputs": [
    {
     "name": "stdout",
     "output_type": "stream",
     "text": [
      "Progress: 75% (027/036)\n",
      "\n",
      "Rank 1: validation: 0.14232 (+/-0.00144) train: 0.13841 (+/-0.00044):\n",
      " {'rbm__n_iter': 100, 'rbm__learning_rate': 1.0, 'rbm__n_components': 150}\n",
      "Rank 2: validation: 0.14152 (+/-0.00224) train: 0.13875 (+/-0.00075):\n",
      " {'rbm__n_iter': 100, 'rbm__learning_rate': 10.0, 'rbm__n_components': 150}\n",
      "Rank 3: validation: 0.14128 (+/-0.00132) train: 0.13880 (+/-0.00042):\n",
      " {'rbm__n_iter': 25, 'rbm__learning_rate': 1.0, 'rbm__n_components': 300}\n",
      "Rank 4: validation: 0.14125 (+/-0.00134) train: 0.13878 (+/-0.00043):\n",
      " {'rbm__n_iter': 25, 'rbm__learning_rate': 1.0, 'rbm__n_components': 150}\n",
      "Rank 5: validation: 0.14125 (+/-0.00134) train: 0.13884 (+/-0.00044):\n",
      " {'rbm__n_iter': 25, 'rbm__learning_rate': 10.0, 'rbm__n_components': 300}\n"
     ]
    }
   ],
   "source": [
    "print(search.report())"
   ]
  },
  {
   "cell_type": "code",
   "execution_count": 39,
   "metadata": {
    "collapsed": false
   },
   "outputs": [
    {
     "data": {
      "image/png": "[encoded data removed]",
      "text/plain": [
       "<matplotlib.figure.Figure at 0x7f6722868f50>"
      ]
     },
     "metadata": {},
     "output_type": "display_data"
    }
   ],
   "source": [
    "search.boxplot_parameters(display_train=False)"
   ]
  },
  {
   "cell_type": "code",
   "execution_count": 40,
   "metadata": {
    "collapsed": false
   },
   "outputs": [],
   "source": [
    "model2=Pipeline(steps=[('rbm', rbm), ('logistic', logistic)])"
   ]
  },
  {
   "cell_type": "markdown",
   "metadata": {},
   "source": [
    "Apply the optimum parameters to Pipeline Model"
   ]
  },
  {
   "cell_type": "code",
   "execution_count": 41,
   "metadata": {
    "collapsed": false
   },
   "outputs": [
    {
     "data": {
      "text/plain": [
       "Pipeline(steps=[('rbm', BernoulliRBM(batch_size=10, learning_rate=1.0, n_components=150, n_iter=100,\n",
       "       random_state=0, verbose=True)), ('logistic', LogisticRegression(C=1.0, class_weight=None, dual=False, fit_intercept=True,\n",
       "          intercept_scaling=1, max_iter=100, multi_class='ovr',\n",
       "          penalty='l2', random_state=None, solver='liblinear', tol=0.0001,\n",
       "          verbose=0))])"
      ]
     },
     "execution_count": 41,
     "metadata": {},
     "output_type": "execute_result"
    }
   ],
   "source": [
    "#modfile='../models/'+model_keyword+'.pkl'\n",
    "modfile='../dataset/original/dataset_rbm2.hdf5'\n",
    "best_params=search.find_bests(1)[0][-1]\n",
    "model2.set_params(**best_params)"
   ]
  },
  {
   "cell_type": "markdown",
   "metadata": {},
   "source": [
    "Apply the fitting and predicting task to free cluster."
   ]
  },
  {
   "cell_type": "code",
   "execution_count": 42,
   "metadata": {
    "collapsed": false
   },
   "outputs": [],
   "source": [
    "def pred_results(model,X_train,X_test,Y_train,Y_test,modfile):\n",
    "    import h5py\n",
    "    mod=model.fit(X_train,Y_train)\n",
    "    dFile=h5py.File(modfile,'w')\n",
    "    dFile.create_dataset('train_labels',data=Y_train)\n",
    "    dFile.create_dataset('test_labels',data=Y_test)\n",
    "    rbm=model.steps.pop(0)[1]\n",
    "    dFile.create_dataset('train_data',data=rbm.transform(X_train))\n",
    "    dFile.create_dataset('test_data',data=rbm.transform(X_test))\n",
    "    dFile.close()\n",
    "    return mod.predict(rbm.transform(X_test))\n",
    "x=lb_view.apply(pred_results,model2,X_train,X_test,Y_train,Y_test,modfile)"
   ]
  },
  {
   "cell_type": "code",
   "execution_count": 69,
   "metadata": {
    "collapsed": false
   },
   "outputs": [
    {
     "data": {
      "text/plain": [
       "False"
      ]
     },
     "execution_count": 69,
     "metadata": {},
     "output_type": "execute_result"
    }
   ],
   "source": [
    "x.ready()\n",
    "#Y_pred=x.get()"
   ]
  },
  {
   "cell_type": "code",
   "execution_count": null,
   "metadata": {
    "collapsed": false
   },
   "outputs": [],
   "source": [
    "from sklearn.metrics import confusion_matrix\n",
    "from sklearn.metrics import classification_report\n",
    "from sklearn.metrics import accuracy_score\n",
    "\n",
    "classes=['airplane', 'automobile', 'bird', 'cat', 'deer', 'dog', 'frog', 'horse', 'ship', 'truck']\n",
    "\n",
    "print 'Accuracy on complete test set: %0.2f\\n\\n'% (accuracy_score(Y_test, Y_pred))\n",
    "print 'Classification Statistics:'\n",
    "print classification_report(Y_test,Y_pred,target_names=classes)\n",
    "\n",
    "conf = confusion_matrix(Y_test, Y_pred)\n",
    "plt.imshow(conf, cmap='binary',interpolation='nearest')\n",
    "plt.title('Confusion Matrix'); plt.colorbar()\n",
    "tick_marks = np.arange(len(classes))\n",
    "plt.xticks(tick_marks, classes, rotation=45);plt.yticks(tick_marks, classes)\n",
    "plt.tight_layout();plt.ylabel('True label');plt.xlabel('Predicted label')\n",
    "font = {'color':  'green','stretch':'extra-expanded','weight':0,'size': 10}\n",
    "for i,j in [(n,m) for n in range(len(classes)) for m in range(len(classes))]:\n",
    "    plt.text(j,i,str(conf[i,j]),font)\n"
   ]
  },
  {
   "cell_type": "code",
   "execution_count": null,
   "metadata": {
    "collapsed": true
   },
   "outputs": [],
   "source": []
  }
 ],
 "metadata": {
  "kernelspec": {
   "display_name": "Python 2",
   "language": "python",
   "name": "python2"
  },
  "language_info": {
   "codemirror_mode": {
    "name": "ipython",
    "version": 2
   },
   "file_extension": ".py",
   "mimetype": "text/x-python",
   "name": "python",
   "nbconvert_exporter": "python",
   "pygments_lexer": "ipython2",
   "version": "2.7.6"
  }
 },
 "nbformat": 4,
 "nbformat_minor": 0
}
