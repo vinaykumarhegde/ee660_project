{
 "cells": [
  {
   "cell_type": "markdown",
   "metadata": {},
   "source": [
    "## SVM on RBM features"
   ]
  },
  {
   "cell_type": "code",
   "execution_count": 1,
   "metadata": {
    "collapsed": false
   },
   "outputs": [
    {
     "data": {
      "text/plain": [
       "<matplotlib.figure.Figure at 0x7f9eb9d79410>"
      ]
     },
     "metadata": {},
     "output_type": "display_data"
    }
   ],
   "source": [
    "%matplotlib inline\n",
    "import matplotlib.pyplot as plt\n",
    "plt.rcParams['figure.figsize'] = 10, 7.5\n",
    "plt.rcParams['axes.grid'] = True\n",
    "plt.gray();\n",
    "\n",
    "import sys\n",
    "import numpy as np\n",
    "sys.path.append('../scripts')\n",
    "import datasets"
   ]
  },
  {
   "cell_type": "markdown",
   "metadata": {},
   "source": [
    "#### Cluster definition and Initialization"
   ]
  },
  {
   "cell_type": "code",
   "execution_count": 2,
   "metadata": {
    "collapsed": false
   },
   "outputs": [],
   "source": [
    "from ipyparallel import Client\n",
    "client = Client()\n",
    "lb_view = client.load_balanced_view()"
   ]
  },
  {
   "cell_type": "code",
   "execution_count": 3,
   "metadata": {
    "collapsed": false
   },
   "outputs": [
    {
     "data": {
      "text/plain": [
       "145"
      ]
     },
     "execution_count": 3,
     "metadata": {},
     "output_type": "execute_result"
    }
   ],
   "source": [
    "len(client)"
   ]
  },
  {
   "cell_type": "markdown",
   "metadata": {},
   "source": [
    "#### Model definition"
   ]
  },
  {
   "cell_type": "code",
   "execution_count": 4,
   "metadata": {
    "collapsed": false
   },
   "outputs": [],
   "source": [
    "from sklearn.svm import SVC\n",
    "model = SVC()\n",
    "model_keyword='rbm_svm'\n",
    "svc_params = {\n",
    "    'C': np.logspace(-4, 2, 6),\n",
    "    'gamma': np.logspace(-4, 2, 5),\n",
    "    'kernel':['linear','rbf']\n",
    "}"
   ]
  },
  {
   "cell_type": "code",
   "execution_count": 5,
   "metadata": {
    "collapsed": false
   },
   "outputs": [],
   "source": [
    "from sklearn.datasets import load_digits\n",
    "from mmap_utils import persist_cv_splits\n",
    "from sklearn.preprocessing import StandardScaler\n",
    "\n",
    "data=datasets.load_rbm()\n",
    "scaler = StandardScaler()\n",
    "X_train = scaler.fit_transform(data.X_train)\n",
    "X_test = scaler.transform(data.X_test)\n",
    "Y_train= data.y_train\n",
    "Y_test= data.y_test\n",
    "\n",
    "digits_split_filenames = persist_cv_splits(X_train, Y_train,\n",
    "    name=model_keyword, random_state=4)"
   ]
  },
  {
   "cell_type": "code",
   "execution_count": 6,
   "metadata": {
    "collapsed": false
   },
   "outputs": [
    {
     "data": {
      "text/plain": [
       "Progress: 00% (000/180)"
      ]
     },
     "execution_count": 6,
     "metadata": {},
     "output_type": "execute_result"
    }
   ],
   "source": [
    "import model_selection\n",
    "search = model_selection.RandomizedGridSeach(lb_view)\n",
    "search.launch_for_splits(model, svc_params, digits_split_filenames)"
   ]
  },
  {
   "cell_type": "code",
   "execution_count": 13,
   "metadata": {
    "collapsed": false
   },
   "outputs": [
    {
     "ename": "RemoteError",
     "evalue": "EngineError(Engine '112d36b3-e69a-4249-b07a-aef9631c919a' died while running task u'ed3ad5fa-b971-47f0-a5cb-cee79df55fa7')",
     "output_type": "error",
     "traceback": [
      "Traceback (most recent call last):",
      "  File \"/usr/local/lib/python2.7/dist-packages/ipyparallel/controller/scheduler.py\", line 347, in handle_stranded_tasks",
      "    raise error.EngineError(\"Engine %r died while running task %r\"%(engine, msg_id))",
      "EngineError: Engine '112d36b3-e69a-4249-b07a-aef9631c919a' died while running task u'ed3ad5fa-b971-47f0-a5cb-cee79df55fa7'"
     ]
    },
    {
     "name": "stderr",
     "output_type": "stream",
     "text": [
      "Traceback (most recent call last):\n",
      "  File \"/usr/lib/python2.7/logging/__init__.py\", line 872, in emit\n",
      "    stream.write(fs % msg)\n",
      "IOError: [Errno 32] Broken pipe\n",
      "Logged from file ipkernel.py, line 207\n"
     ]
    }
   ],
   "source": [
    "print(search.report())"
   ]
  },
  {
   "cell_type": "code",
   "execution_count": null,
   "metadata": {
    "collapsed": false
   },
   "outputs": [],
   "source": [
    "search.boxplot_parameters(display_train=False)"
   ]
  },
  {
   "cell_type": "code",
   "execution_count": null,
   "metadata": {
    "collapsed": true
   },
   "outputs": [],
   "source": [
    "def save_model(model,params,X_train,Y_train):\n",
    "    model.set_params(**params)\n",
    "    l=model.fit(X_train,Y_train)\n",
    "    return l"
   ]
  },
  {
   "cell_type": "code",
   "execution_count": null,
   "metadata": {
    "collapsed": true
   },
   "outputs": [],
   "source": [
    "mod=save_model(model,search.find_bests(1)[0][-1],X_train,Y_train)"
   ]
  },
  {
   "cell_type": "code",
   "execution_count": null,
   "metadata": {
    "collapsed": true
   },
   "outputs": [],
   "source": [
    "classes=['airplane', 'automobile', 'bird', 'cat', 'deer', 'dog', 'frog', 'horse', 'ship', 'truck']\n",
    "Y_pred=mod.predict(X_test)"
   ]
  },
  {
   "cell_type": "code",
   "execution_count": null,
   "metadata": {
    "collapsed": true
   },
   "outputs": [],
   "source": [
    "from sklearn.metrics import accuracy_score\n",
    "print 'Performance on Test set: %0.2f'% (accuracy_score(Y_test,Y_pred))"
   ]
  },
  {
   "cell_type": "code",
   "execution_count": null,
   "metadata": {
    "collapsed": true
   },
   "outputs": [],
   "source": [
    "from sklearn.metrics import confusion_matrix\n",
    "from sklearn.metrics import classification_report\n",
    "\n",
    "print 'Classification Statistics:'\n",
    "print classification_report(Y_test,Y_pred,target_names=classes)\n",
    "\n",
    "conf = confusion_matrix(Y_test, Y_pred)\n",
    "plt.imshow(conf, cmap='binary',interpolation='nearest')\n",
    "plt.title('Confusion Matrix'); plt.colorbar()\n",
    "tick_marks = np.arange(len(classes))\n",
    "plt.xticks(tick_marks, classes, rotation=45);plt.yticks(tick_marks, classes)\n",
    "plt.tight_layout();plt.ylabel('True label');plt.xlabel('Predicted label')\n",
    "font = {'color':  'blue','stretch':'extra-expanded','weight':0,'size': 10}\n",
    "for i,j in [(n,m) for n in range(len(classes)) for m in range(len(classes))]:\n",
    "    plt.text(j,i,str(conf[i,j]),font)\n"
   ]
  }
 ],
 "metadata": {
  "kernelspec": {
   "display_name": "Python 2",
   "language": "python",
   "name": "python2"
  },
  "language_info": {
   "codemirror_mode": {
    "name": "ipython",
    "version": 2
   },
   "file_extension": ".py",
   "mimetype": "text/x-python",
   "name": "python",
   "nbconvert_exporter": "python",
   "pygments_lexer": "ipython2",
   "version": "2.7.6"
  }
 },
 "nbformat": 4,
 "nbformat_minor": 0
}
