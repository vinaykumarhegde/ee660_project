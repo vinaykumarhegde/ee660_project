{
 "cells": [
  {
   "cell_type": "code",
   "execution_count": 1,
   "metadata": {
    "collapsed": false
   },
   "outputs": [],
   "source": [
    "#Linear classifiers test on original dataset.\n",
    "from sklearn.linear_model import LogisticRegression\n",
    "from sklearn.svm import SVC\n",
    "from sklearn.neighbors import KNeighborsClassifier\n",
<<<<<<< HEAD
    "import datasets\n",
    "import time"
=======
    "import cPickle\n",
    "import time\n",
    "from os.path import abspath"
   ]
  },
  {
   "cell_type": "code",
   "execution_count": 2,
   "metadata": {
    "collapsed": false
   },
   "outputs": [],
   "source": [
    "#Read the configurations and dataset\n",
    "with open('../config.yaml','r') as cfgFile:\n",
    "    cfg=yaml.load(cfgFile)\n",
    "hdf5File=cfg['defaults']['project_path']+'/dataset/'+cfg['defaults']['dataset']+'/dataset.hdf5'\n",
    "data=h5py.File(hdf5File,'r')\n",
    "X_train=np.array(data['train_data'])\n",
    "y_train=np.array(data['train_labels'])\n",
    "X_test=np.array(data['test_data'])\n",
    "y_test=np.array(data['test_labels'])"
>>>>>>> 63c1581e00a672b39ac48121d923c6f0c0913f4c
   ]
  },
  {
   "cell_type": "code",
   "execution_count": 4,
   "metadata": {
    "collapsed": false
   },
   "outputs": [],
   "source": [
<<<<<<< HEAD
    "classifiers = {'L2 logistic (OvR)': LogisticRegression(C=1, penalty='l2')}\n",
    "cifar=datasets.load_cifar()"
=======
    "C=1.0\n",
    "classifiers = {'L1_logistic': LogisticRegression(C=C, penalty='l1'),\n",
    "               'L2_logistic (OvR)': LogisticRegression(C=C, penalty='l2'),\n",
    "               'L2_logistic_Multinomial': LogisticRegression(C=C, solver='lbfgs', multi_class='multinomial'),\n",
    "               'Linear_SVC': SVC(kernel='linear', C=C, probability=True,random_state=0),\n",
    "               'RBF_SVC': SVC(kernel='rbf', C=C),\n",
    "               'kNN' : KNeighborsClassifier(n_neighbors=5, weights='uniform',algorithm='auto'),\n",
    "              }"
>>>>>>> 63c1581e00a672b39ac48121d923c6f0c0913f4c
   ]
  },
  {
   "cell_type": "code",
   "execution_count": 4,
   "metadata": {
    "collapsed": false
   },
   "outputs": [
    {
     "name": "stdout",
     "output_type": "stream",
     "text": [
      "Started  kNN  at:  1447123625.87\n",
      "Saving classifier file at: "
     ]
    },
    {
     "ename": "NameError",
     "evalue": "name 'pflfile' is not defined",
     "output_type": "error",
     "traceback": [
      "\u001b[0;31m---------------------------------------------------------------------------\u001b[0m",
      "\u001b[0;31mNameError\u001b[0m                                 Traceback (most recent call last)",
      "\u001b[0;32m<ipython-input-4-bffe9aaca6b7>\u001b[0m in \u001b[0;36m<module>\u001b[0;34m()\u001b[0m\n\u001b[1;32m      4\u001b[0m     \u001b[0mclassifier\u001b[0m\u001b[0;34m.\u001b[0m\u001b[0mfit\u001b[0m\u001b[0;34m(\u001b[0m\u001b[0mX_train\u001b[0m\u001b[0;34m,\u001b[0m\u001b[0my_train\u001b[0m\u001b[0;34m)\u001b[0m\u001b[0;34m\u001b[0m\u001b[0m\n\u001b[1;32m      5\u001b[0m     \u001b[0mpklfile\u001b[0m\u001b[0;34m=\u001b[0m\u001b[0mopen\u001b[0m\u001b[0;34m(\u001b[0m\u001b[0mname\u001b[0m\u001b[0;34m+\u001b[0m\u001b[0;34m'_learn.pkl'\u001b[0m\u001b[0;34m,\u001b[0m\u001b[0;34m'wb'\u001b[0m\u001b[0;34m)\u001b[0m\u001b[0;34m\u001b[0m\u001b[0m\n\u001b[0;32m----> 6\u001b[0;31m     \u001b[0;32mprint\u001b[0m \u001b[0;34m\"Saving classifier file at: \"\u001b[0m\u001b[0;34m,\u001b[0m\u001b[0mabspath\u001b[0m\u001b[0;34m(\u001b[0m\u001b[0mpflfile\u001b[0m\u001b[0;34m)\u001b[0m\u001b[0;34m\u001b[0m\u001b[0m\n\u001b[0m\u001b[1;32m      7\u001b[0m     \u001b[0mcPickle\u001b[0m\u001b[0;34m.\u001b[0m\u001b[0mdump\u001b[0m\u001b[0;34m(\u001b[0m\u001b[0mclassifier\u001b[0m\u001b[0;34m,\u001b[0m\u001b[0mpklfile\u001b[0m\u001b[0;34m)\u001b[0m\u001b[0;34m\u001b[0m\u001b[0m\n\u001b[1;32m      8\u001b[0m     \u001b[0mpklfile\u001b[0m\u001b[0;34m.\u001b[0m\u001b[0mclose\u001b[0m\u001b[0;34m(\u001b[0m\u001b[0;34m)\u001b[0m\u001b[0;34m\u001b[0m\u001b[0m\n",
      "\u001b[0;31mNameError\u001b[0m: name 'pflfile' is not defined"
     ]
    }
   ],
   "source": [
    "for index,(name,classifier) in enumerate(classifiers.items()):\n",
    "    start_time=time.time()\n",
<<<<<<< HEAD
    "    print index, name, classifier.fit(cifar.X_train,cifar.y_train).score(cifar.X_test,cifar.y_test)\n",
    "    print 'Total time: ', time.time()-start_time\n",
    "    "
=======
    "    print \"Started \", name, \" at: \", start_time\n",
    "    classifier.fit(X_train,y_train)\n",
    "    pklfile=open(name+'_learn.pkl','wb')\n",
    "    print \"Saving classifier file at: \",abspath(pklfile)\n",
    "    cPickle.dump(classifier,pklfile)\n",
    "    pklfile.close()\n",
    "    print \"Completed \",name, \"classifier runs.\" \n",
    "    print \"Accuracy: \", classifier.score(X_test,y_test)\n",
    "    print \"Time taken: \", time.time()-start_time , \"s\""
>>>>>>> 63c1581e00a672b39ac48121d923c6f0c0913f4c
   ]
  },
  {
   "cell_type": "code",
   "execution_count": null,
   "metadata": {
    "collapsed": true
   },
   "outputs": [],
   "source": []
  }
 ],
 "metadata": {
  "kernelspec": {
   "display_name": "Python 2",
   "language": "python",
   "name": "python2"
  },
  "language_info": {
   "codemirror_mode": {
    "name": "ipython",
    "version": 2
   },
   "file_extension": ".py",
   "mimetype": "text/x-python",
   "name": "python",
   "nbconvert_exporter": "python",
   "pygments_lexer": "ipython2",
   "version": "2.7.6"
  }
 },
 "nbformat": 4,
 "nbformat_minor": 0
}
