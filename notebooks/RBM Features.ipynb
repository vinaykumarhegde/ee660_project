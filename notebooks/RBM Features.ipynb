{
 "cells": [
  {
   "cell_type": "code",
   "execution_count": 4,
   "metadata": {
    "collapsed": false
   },
   "outputs": [],
   "source": [
    "import numpy as np\n",
    "from sklearn.pipeline import Pipeline\n",
    "from sklearn.neural_network import BernoulliRBM\n",
    "from sklearn.linear_model import LogisticRegression\n",
    "import sys\n",
    "sys.path.append('../scripts')\n",
    "import datasets\n",
    "from time import time\n",
    "from sklearn.grid_search import GridSearchCV"
   ]
  },
  {
   "cell_type": "code",
   "execution_count": 5,
   "metadata": {
    "collapsed": false
   },
   "outputs": [],
   "source": [
    "data=datasets.load_cifar_gray()\n",
    "X_train=data.X_train\n",
    "X_train=(X_train-np.min(X_train,0))/(np.max(X_train,0)+0.0001) \n",
    "X_test=data.X_test\n",
    "X_test=(X_test-np.min(X_test,0))/(np.max(X_test,0)+0.0001) \n",
    "Y_train=data.y_train\n",
    "Y_test=data.y_test"
   ]
  },
  {
   "cell_type": "code",
   "execution_count": 6,
   "metadata": {
    "collapsed": false
   },
   "outputs": [
    {
     "name": "stdout",
     "output_type": "stream",
     "text": [
      "[BernoulliRBM] Iteration 1, pseudo-likelihood = -646.23, time = 13.33s\n",
      "[BernoulliRBM] Iteration 2, pseudo-likelihood = -646.97, time = 14.63s\n",
      "[BernoulliRBM] Iteration 3, pseudo-likelihood = -638.36, time = 14.36s\n",
      "[BernoulliRBM] Iteration 4, pseudo-likelihood = -625.09, time = 14.59s\n",
      "[BernoulliRBM] Iteration 5, pseudo-likelihood = -636.41, time = 15.01s\n",
      "[BernoulliRBM] Iteration 6, pseudo-likelihood = -624.08, time = 14.29s\n",
      "[BernoulliRBM] Iteration 7, pseudo-likelihood = -629.16, time = 14.66s\n",
      "[BernoulliRBM] Iteration 8, pseudo-likelihood = -627.33, time = 14.17s\n",
      "[BernoulliRBM] Iteration 9, pseudo-likelihood = -615.75, time = 14.21s\n",
      "[BernoulliRBM] Iteration 10, pseudo-likelihood = -617.43, time = 14.01s\n",
      "[BernoulliRBM] Iteration 11, pseudo-likelihood = -612.04, time = 14.51s\n",
      "[BernoulliRBM] Iteration 12, pseudo-likelihood = -605.71, time = 14.70s\n",
      "[BernoulliRBM] Iteration 13, pseudo-likelihood = -620.32, time = 14.10s\n",
      "[BernoulliRBM] Iteration 14, pseudo-likelihood = -612.06, time = 14.40s\n",
      "[BernoulliRBM] Iteration 15, pseudo-likelihood = -618.87, time = 14.37s\n",
      "[BernoulliRBM] Iteration 16, pseudo-likelihood = -613.76, time = 14.05s\n",
      "[BernoulliRBM] Iteration 17, pseudo-likelihood = -600.69, time = 14.22s\n",
      "[BernoulliRBM] Iteration 18, pseudo-likelihood = -617.40, time = 14.51s\n",
      "[BernoulliRBM] Iteration 19, pseudo-likelihood = -615.82, time = 14.60s\n",
      "[BernoulliRBM] Iteration 20, pseudo-likelihood = -600.65, time = 14.23s\n",
      "[BernoulliRBM] Iteration 21, pseudo-likelihood = -604.96, time = 14.71s\n",
      "[BernoulliRBM] Iteration 22, pseudo-likelihood = -613.31, time = 14.26s\n",
      "[BernoulliRBM] Iteration 23, pseudo-likelihood = -613.85, time = 15.16s\n",
      "[BernoulliRBM] Iteration 24, pseudo-likelihood = -602.82, time = 14.69s\n",
      "[BernoulliRBM] Iteration 25, pseudo-likelihood = -611.97, time = 14.31s\n",
      "done in 496.061s\n"
     ]
    }
   ],
   "source": [
    "logistic = LogisticRegression()\n",
    "rbm = BernoulliRBM(random_state=0, verbose=True)\n",
    "pipeline = Pipeline(steps=[('rbm', rbm), ('logistic', logistic)])\n",
    "rbm.learning_rate=0.05 \n",
    "rbm.n_iter=25\n",
    "rbm.n_components=150\n",
    "logistic.C=2500\n",
    "t0 = time()\n",
    "pipeline.fit(X_train, Y_train)\n",
    "print(\"done in %0.3fs\" % (time() - t0))"
   ]
  },
  {
   "cell_type": "code",
   "execution_count": 13,
   "metadata": {
    "collapsed": false
   },
   "outputs": [
    {
     "name": "stdout",
     "output_type": "stream",
     "text": [
      "Best score: 0.290\n"
     ]
    }
   ],
   "source": [
    "print(\"Best score: %0.3f\" % pipeline.score(X_test,Y_test))\n"
   ]
  },
  {
   "cell_type": "code",
   "execution_count": 21,
   "metadata": {
    "collapsed": false
   },
   "outputs": [],
   "source": [
    "import h5py\n",
    "filename='../dataset/original/dataset_rbm2.hdf5'\n",
    "dFile=h5py.File(filename,'w')\n",
    "dFile.create_dataset('train_labels',data=Y_train)\n",
    "dFile.create_dataset('test_labels',data=Y_test)\n",
    "dFile.create_dataset('train_data',data=rbm.transform(X_train))\n",
    "dFile.create_dataset('test_data',data=rbm.transform(X_test))\n",
    "dFile.close()"
   ]
  },
  {
   "cell_type": "code",
   "execution_count": null,
   "metadata": {
    "collapsed": true
   },
   "outputs": [],
   "source": []
  }
 ],
 "metadata": {
  "kernelspec": {
   "display_name": "Python 2",
   "language": "python",
   "name": "python2"
  },
  "language_info": {
   "codemirror_mode": {
    "name": "ipython",
    "version": 2
   },
   "file_extension": ".py",
   "mimetype": "text/x-python",
   "name": "python",
   "nbconvert_exporter": "python",
   "pygments_lexer": "ipython2",
   "version": "2.7.6"
  }
 },
 "nbformat": 4,
 "nbformat_minor": 0
}
