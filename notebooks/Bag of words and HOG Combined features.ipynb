{
 "cells": [
  {
   "cell_type": "markdown",
   "metadata": {},
   "source": [
    "## SIFT Bag of Words and HOG features.\n",
    "\n"
   ]
  },
  {
   "cell_type": "code",
   "execution_count": 1,
   "metadata": {
    "collapsed": true
   },
   "outputs": [],
   "source": [
    "import numpy as np\n",
    "from sklearn.linear_model import LogisticRegression\n",
    "from sklearn.svm import SVC\n",
    "from sklearn.neighbors import KNeighborsClassifier\n",
    "import datasets"
   ]
  },
  {
   "cell_type": "code",
   "execution_count": 2,
   "metadata": {
    "collapsed": false
   },
   "outputs": [],
   "source": [
    "C=1\n",
    "classifiers = {'Linear_SVC': SVC(kernel='linear', C=C),\n",
    "               'RBF_SVC': SVC(kernel='rbf', C=C),\n",
    "               'L2_logistic (OvR)': LogisticRegression(C=C, penalty='l2'),\n",
    "              }\n",
    "data=datasets.sift_hog()"
   ]
  },
  {
   "cell_type": "code",
   "execution_count": 3,
   "metadata": {
    "collapsed": false
   },
   "outputs": [
    {
     "name": "stdout",
     "output_type": "stream",
     "text": [
      "Running  RBF_SVC classifier\n",
      "CPU times: user 32min 38s, sys: 4.78 s, total: 32min 43s\n",
      "Wall time: 32min 43s\n",
      "Accuracy:  0.1028\n",
      "Running  Linear_SVC classifier\n",
      "CPU times: user 20min 17s, sys: 3.15 s, total: 20min 20s\n",
      "Wall time: 20min 20s\n",
      "Accuracy:  0.1008\n",
      "Running  L2_logistic (OvR) classifier\n",
      "CPU times: user 29.3 s, sys: 147 ms, total: 29.4 s\n",
      "Wall time: 29.4 s\n",
      "Accuracy:  0.0986\n"
     ]
    }
   ],
   "source": [
    "for index,(name,classifier) in enumerate(classifiers.items()):\n",
    "    print \"Running \", name , \"classifier\"\n",
    "    %time classifier.fit(data.X_train,data.y_train)\n",
    "    print \"Accuracy: \", classifier.score(data.X_test,data.y_test)\n"
   ]
  },
  {
   "cell_type": "code",
   "execution_count": null,
   "metadata": {
    "collapsed": true
   },
   "outputs": [],
   "source": []
  }
 ],
 "metadata": {
  "kernelspec": {
   "display_name": "Python 2",
   "language": "python",
   "name": "python2"
  },
  "language_info": {
   "codemirror_mode": {
    "name": "ipython",
    "version": 2
   },
   "file_extension": ".py",
   "mimetype": "text/x-python",
   "name": "python",
   "nbconvert_exporter": "python",
   "pygments_lexer": "ipython2",
   "version": "2.7.10"
  }
 },
 "nbformat": 4,
 "nbformat_minor": 0
}
